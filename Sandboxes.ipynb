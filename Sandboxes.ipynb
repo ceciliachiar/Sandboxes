{
 "cells": [
  {
   "cell_type": "markdown",
   "id": "6e05393e-21f9-4c79-a110-1ebcc5b150d9",
   "metadata": {},
   "source": [
    "# **Quantum Computing — the soft way**\n",
    "### *QPlayLearn*"
   ]
  },
  {
   "cell_type": "markdown",
   "id": "8e85ca32-0a3b-4a12-ae17-717607861800",
   "metadata": {},
   "source": [
    "## **Installation**\n",
    "\n",
    "First of all, we start by installing packages in the current environment. Note that these packages will not be installed on your local machine"
   ]
  },
  {
   "cell_type": "code",
   "execution_count": null,
   "id": "a3508187-7879-4f13-bec0-0d27bb9d90e2",
   "metadata": {},
   "outputs": [],
   "source": [
    "# Qiskit is the open-source library for quantum computing founded by IBM\n",
    "! pip install qiskit qiskit-aer qiskit-ibm-runtime \n",
    "! pip install matplotlib pylatexenc"
   ]
  },
  {
   "cell_type": "markdown",
   "id": "dd26861d-b10f-4de1-9747-8ae1edd0d353",
   "metadata": {},
   "source": [
    "## **Importing packages**\n",
    "\n",
    "We import all the packages we are going to need to run the code. \n",
    "<br> N.B. Remember to run this cell before every Sandbox!"
   ]
  },
  {
   "cell_type": "code",
   "execution_count": 2,
   "id": "48dd4639-e9d6-4f8c-9c39-3aeb75deb120",
   "metadata": {},
   "outputs": [],
   "source": [
    "# Qiskit is the open-source library for quantum computing founded by IBM\n",
    "import qiskit as qk\n",
    "from qiskit.quantum_info import Statevector # to get the state coefficients\n",
    "from qiskit_aer import AerSimulator # to run circuits on the quantum computer simulator\n",
    "from qiskit.visualization import plot_bloch_multivector, plot_bloch_vector, plot_histogram\n",
    "\n",
    "# Packages for graphical representations and plots\n",
    "import matplotlib as mpl\n",
    "import matplotlib.pyplot as plt\n",
    "\n",
    "# Math library\n",
    "import numpy as np"
   ]
  },
  {
   "cell_type": "markdown",
   "id": "bb3c8806-6bce-4f69-accf-32ae42c5b210",
   "metadata": {},
   "source": [
    "## **QC SANDBOX #1 - Amplitude game**"
   ]
  },
  {
   "cell_type": "markdown",
   "id": "8a9ceb59-7f60-4523-868a-1fb68eb8c93e",
   "metadata": {},
   "source": [
    "Let's start by creating a simple quantum circuit with 1 qubit. We can represent it visually as we saw earlier in the course."
   ]
  },
  {
   "cell_type": "code",
   "execution_count": null,
   "id": "b1001f74-0674-4870-8338-fec6a64db965",
   "metadata": {},
   "outputs": [],
   "source": [
    "# Create a quantum circuit with 1 qubit\n",
    "num_qubits = 1\n",
    "qc = qk.QuantumCircuit(num_qubits)\n",
    "\n",
    "# Apply a X gate on the qubit\n",
    "# qc.x(0)\n",
    "\n",
    "# Play with other single qubit gates!\n",
    "# qc.y(0)\n",
    "# qc.h(0)\n",
    "\n",
    "\n",
    "# Draw a graphical representation of the circuit (using matplotlib)\n",
    "# print(qc)"
   ]
  },
  {
   "cell_type": "markdown",
   "id": "aadb4da7-1c81-494b-87ee-159e906268f8",
   "metadata": {},
   "source": [
    "The X gate transform the initial state into $|\\psi_{final} \\rangle = X |\\psi_{initial}\\rangle$, and, at this point, we should be able to calculate by hand the result. However, on Qiskit we can quickly check it in the form of the array of coefficients or amplitudes $$ |\\psi_{final}\\rangle = a |0 \\rangle + b |1 \\rangle =  [a, b]$$"
   ]
  },
  {
   "cell_type": "code",
   "execution_count": null,
   "id": "de4ebc7f-6366-4a49-b61b-f48344d8cff8",
   "metadata": {},
   "outputs": [],
   "source": [
    "# Compute the final state of the quantum circuit. Note that j is the imaginary unit\n",
    "psi = Statevector(qc)\n",
    "print(\"|psi_final> = \", psi.data)"
   ]
  },
  {
   "cell_type": "markdown",
   "id": "17410c23-5a44-4a35-b5ce-9238a94765d9",
   "metadata": {},
   "source": [
    "**Bloch sphere representation**\n",
    "\n",
    "We can visualize the representation of $|\\psi_{final} \\rangle$ on the Bloch sphere. Is it what you were expecting?"
   ]
  },
  {
   "cell_type": "code",
   "execution_count": null,
   "id": "eb960da2-42d8-46b3-a6e1-659aad6ffa18",
   "metadata": {},
   "outputs": [],
   "source": [
    "# Plot its representation in the Bloch sphere\n",
    "plot_bloch_multivector(qc)"
   ]
  },
  {
   "cell_type": "markdown",
   "id": "397dca13-6048-4a43-bb05-8c122875263e",
   "metadata": {},
   "source": [
    "A generic single qubit state $|\\psi \\rangle = a| 0 \\rangle + b| 1 \\rangle$ can be visualised via the relations between complex coefficients $a$ and $b$ and the spherical coordinates on the Bloch sphere $\\theta$, $\\varphi$. You can derive them yourself in the In-depth content of Chapter 2, or use the function defined below."
   ]
  },
  {
   "cell_type": "code",
   "execution_count": null,
   "id": "37ef5a88-f197-47dd-adff-281fae010ad9",
   "metadata": {},
   "outputs": [],
   "source": [
    "def coeff_to_sphere(a,b):\n",
    "    \"\"\"\n",
    "    Calculate spherical coordinates for the Bloch sphere from state coefficients\n",
    "    \"\"\"\n",
    "    b_phase = np.arctan2( np.imag(b),np.real(b)) \n",
    "    a_phase= np.arctan2( np.imag(a),np.real(a))\n",
    "    phi = b_phase - a_phase\n",
    "\n",
    "    a_magn = np.sqrt(np.real(a)**2 + np.imag(a)**2)\n",
    "    theta=2*np.acos(a_magn)\n",
    "    return theta, phi"
   ]
  },
  {
   "cell_type": "markdown",
   "id": "6e4477f9-dee8-4f44-befb-b9bdac6df1aa",
   "metadata": {},
   "source": [
    "For example, let's see the case of $$| \\psi \\rangle = \\frac{i}{\\sqrt{2}} | 0 \\rangle +\\frac{1}{\\sqrt{2}} |1 \\rangle$$"
   ]
  },
  {
   "cell_type": "code",
   "execution_count": null,
   "id": "2339c0fb-b175-4b48-aef8-8583c4785160",
   "metadata": {},
   "outputs": [],
   "source": [
    "# These are the state coefficients\n",
    "a = 1j/np.sqrt(2)\n",
    "b = 1/np.sqrt(2)\n",
    "\n",
    "# Obtain spherical coordinates\n",
    "theta, phi = coeff_to_sphere(a,b)\n",
    "\n",
    "# Plot its representation in the Bloch sphere, using spherical coordinates this time!\n",
    "plot_bloch_vector([1, theta, phi], coord_type='spherical')\n"
   ]
  },
  {
   "cell_type": "markdown",
   "id": "054bf0cf-8c96-4b43-8e51-a1d76a7c260e",
   "metadata": {},
   "source": [
    "**Let's play the Amplitude Game!**<br> Now that you've seen it on the Bloch sphere, build the circuit to realise the final state  $$| \\psi \\rangle = \\frac{i}{\\sqrt{2}} | 0 \\rangle +\\frac{1}{\\sqrt{2}} | 1 \\rangle$$\n",
    "Tip: remember the action of each gate on the Bloch sphere!"
   ]
  },
  {
   "cell_type": "code",
   "execution_count": null,
   "id": "8eee8977-6a3f-48f0-b804-26f453abbe84",
   "metadata": {},
   "outputs": [],
   "source": [
    "# Amplitude game circuit\n",
    "num_qubits = 1\n",
    "qc = qk.QuantumCircuit(num_qubits)\n",
    "\n",
    "# ???\n",
    "\n",
    "print(qc)\n",
    "\n",
    "# [to delete] psi = Statevector(qc)\n",
    "# [to delete] print(\"|psi> = \", psi.data)\n",
    "# [to delete] plot_bloch_multivector(qc)\n"
   ]
  },
  {
   "cell_type": "markdown",
   "id": "7ff0c14c-abae-4d27-b907-467cf6349d8d",
   "metadata": {},
   "source": [
    "## **QC SANDBOX #2 - Bell states**"
   ]
  },
  {
   "cell_type": "markdown",
   "id": "43885962-3a35-4834-ba46-a9489543f038",
   "metadata": {
    "editable": true,
    "slideshow": {
     "slide_type": ""
    },
    "tags": []
   },
   "source": [
    "When working with multiple qubits, we can use the same commands to apply gates and check the final state's coefficients.\n",
    "\n"
   ]
  },
  {
   "cell_type": "markdown",
   "id": "4645e7e5-f376-49fd-aa33-f731207c18fd",
   "metadata": {
    "editable": true,
    "slideshow": {
     "slide_type": ""
    },
    "tags": []
   },
   "source": [
    "**Note on ordering**\n",
    "\n",
    "The ordering of qubits and state coefficients can be *tricky*. A generic state of two qubits is\n",
    "$$ \\begin{split} | \\psi \\rangle &= a|00 \\rangle+b |01 \\rangle+c|10 \\rangle+d |11 \\rangle \\\\ &= a|\\ 0_{q_0} \\ 0_{q_1} \\  \\rangle+b | \\ 0_{q_0} \\ 1_{q_1} \\ \\rangle +c | \\ 1_{q_0} \\ 0_{q_1} \\ \\rangle +d | \\ 1_{q_0} \\ 1_{q_1} \\ \\rangle \\\\ &=  [a,b,c,d] \\end{split} $$\n",
    "\n",
    "\n",
    "where the notation $ | \\ 0_{q_0} \\ 0_{q_1} \\ \\rangle$ indicates the computational basis state where the first qubit labelled $q_0$ is in state $| 0 \\rangle$ and the second qubit $q_1$ is in state $| 0 \\rangle$, $ | \\ 1_{q_0} \\ 0_{q_1} \\ \\rangle $ where the the first qubit $q_0$ is in state $| 1 \\rangle$ and the second qubit $q_1$ in state $|0 \\rangle$, and so on. This is the conventional ordering followed by physics textbooks, where qubits are ordered from left to right, with $q_0$ on the leftmost side. \n",
    "\n",
    "Qiskit uses a reversed (\"little-endian\") order, coming from computational science\n",
    "$$ | \\psi \\rangle_{\\text{qiskit}} = a | \\ 0_{q_1} \\ 0_{q_0} \\ \\rangle     +    c    | \\ 0_{q_1} \\ 1_{q_0} \\ \\rangle + b   | \\ 1_{q_1} \\ 0_{q_0} \\ \\rangle   +    d     | \\ 1_{q_1} \\ 1_{q_0} \\ \\rangle $$\n",
    "where we see that the first qubit is on the righmost side. So, when printing the coefficients for the same state as above in Qiskit we get\n",
    "$$ | \\psi\\rangle_{\\text{qiskit}} = [a,c, b,d] $$\n",
    "\n",
    "This difference can affect how you interpret the results of your quantum operations!\n",
    "\n",
    "For more information on how it works for more than 2 qubits, check out this official video: https://www.google.com/url?sa=t&source=web&rct=j&opi=89978449&url=https://www.youtube.com/watch%3Fv%3DEiqHj3_Avps&ved=2ahUKEwih8-rf6LaMAxU6HhAIHZjaJzsQwqsBegQICRAG&usg=AOvVaw1yhPsErDu4JlaYCN5DKQ68\n",
    "\n",
    "**End of the Note**"
   ]
  },
  {
   "cell_type": "code",
   "execution_count": 15,
   "id": "e91335d1-9402-4b98-b6b1-eab24a37bf21",
   "metadata": {
    "editable": true,
    "slideshow": {
     "slide_type": ""
    },
    "tags": []
   },
   "outputs": [],
   "source": [
    "# Create a circuit with more qubits\n",
    "num_qubits = 4\n",
    "qc = qk.QuantumCircuit(num_qubits)\n",
    "\n",
    "# Apply a layer of single qubit gates\n",
    "# ???\n",
    "# [to delete] for n in range(num_qubits):\n",
    "# [to delete]   qc.h(n)\n",
    "\n",
    "# Apply a CNOT gate, specify both target and control\n",
    "# qc.cx( , )\n",
    "\n",
    "# [to delete] control_qubit_index = 0\n",
    "# [to delete] target_qubit_index = 1\n",
    "# [to delete] qc.cx(control_qubit_index, target_qubit_index)\n",
    "\n",
    "# Draw a representation of the circuit and compute the state\n",
    "# ???"
   ]
  },
  {
   "cell_type": "markdown",
   "id": "b6c9287a-03dc-44b8-8449-f3d5b116af9f",
   "metadata": {},
   "source": [
    "**Entanglement**\n",
    "\n",
    "If there are more than one qubit, we can play with entanglement. We have seen how to create a maximally entangled state, or Bell state, via combination of $ \\text{H}$ and $\\text{CNOT}$ gates"
   ]
  },
  {
   "cell_type": "code",
   "execution_count": 22,
   "id": "a5d251b5-5cc9-4462-9c21-b6ae1803efca",
   "metadata": {},
   "outputs": [
    {
     "name": "stdout",
     "output_type": "stream",
     "text": [
      "     ┌───┐     \n",
      "q_0: ┤ H ├──■──\n",
      "     └───┘┌─┴─┐\n",
      "q_1: ─────┤ X ├\n",
      "          └───┘\n"
     ]
    }
   ],
   "source": [
    "# We create the Bell state we have seen earlier in the course\n",
    "num_qubits = 2\n",
    "qc = qk.QuantumCircuit(num_qubits)\n",
    "\n",
    "qc.h(0)\n",
    "qc.cx(0,1)\n",
    "print(qc)\n"
   ]
  },
  {
   "cell_type": "markdown",
   "id": "a7ae7ee0-cf13-4718-9326-9c7196ebc285",
   "metadata": {},
   "source": [
    "**Measurement**\n",
    "\n",
    "We are now familiar with the idea that in the mathematical representation of the quantum states, the squared modulus of the amplitudes tells us the probability of finding the qubits in the states of the computational basis.\n",
    " \n",
    "On a quantum device, we can extract information only through measurement. A single measurement is not enough, and we need instead to run the circuit and measure many times, to estimate the probabilities of finding the qubits in the states of the computational basis. \n",
    " \n",
    "**Let’s see what this means in practice**\n",
    "\n",
    "If we look at the mathematical expression for the Bell state, we read that we have equal probability 1/2 of finding the qubits in $|00 \\rangle  $ or $|11 \\rangle  $. This means that half the times we run the experiments (half the number of “shots”) we should get 00 as output, and 11 the other half. What happens if we run the experiments only 1, 10, or 1000 times? The probability estimates converge with the number of shots."
   ]
  },
  {
   "cell_type": "code",
   "execution_count": 46,
   "id": "a6b1510c-33f6-4113-bebb-ad0b55b676ba",
   "metadata": {},
   "outputs": [
    {
     "name": "stdout",
     "output_type": "stream",
     "text": [
      "Measurement outcomes\n",
      " {'00': 1}\n"
     ]
    },
    {
     "data": {
      "image/png": "[encoded data removed]",
      "text/plain": [
       "<Figure size 640x480 with 1 Axes>"
      ]
     },
     "execution_count": 46,
     "metadata": {},
     "output_type": "execute_result"
    }
   ],
   "source": [
    "# Set AerSimulator from Qiskit as a backend to run the circuit — check the second part of the course to go to real devices\n",
    "sim_bknd = AerSimulator()\n",
    "\n",
    "#Create circuit and measure all qubits at the end of the circuit\n",
    "num_qubits = 2\n",
    "qc = qk.QuantumCircuit(num_qubits)\n",
    "qc.h(0)\n",
    "qc.cx(0,1)\n",
    "qc.measure_all()\n",
    "\n",
    "# Run the circuit on the backend and get the results\n",
    "num_shots = 1\n",
    "res = sim_bknd.run(qc, shots = num_shots).result()\n",
    "counts = res.get_counts()\n",
    "# Print the results \n",
    "print(\"Measurement outcomes\\n\", counts)\n",
    "\n",
    "plot_histogram([counts], \n",
    "               legend=['Simulator'])"
   ]
  },
  {
   "cell_type": "code",
   "execution_count": null,
   "id": "07c2dd3b-96b8-4e81-b12a-181485a5a627",
   "metadata": {},
   "outputs": [],
   "source": []
  },
  {
   "cell_type": "markdown",
   "id": "0f2b55df-0413-45cf-bcb0-9262e0ca40c3",
   "metadata": {},
   "source": [
    "**Your turn!**\n",
    "\n",
    "For a system of two qubits, there are in total 4 maximally entangles, or Bell, states: \n",
    "$$\\begin{split} &|\\Phi^+ \\rangle  = \\frac{1}{\\sqrt{2}} ( | 00 \\rangle  + | 11 \\rangle ) \\\\ &| \\Phi^- \\rangle  = \\frac{1}{\\sqrt{2}} ( |00 \\rangle  - | 11 \\rangle ) \\\\ &| \\Psi^+ \\rangle  = \\frac{1}{\\sqrt{2}} ( | 01 \\rangle  + | 10 \\rangle ) \\\\ &|\\Psi^- \\rangle  = \\frac{1}{\\sqrt{2}} ( | 01 \\rangle  - | 10 \\rangle ) \\end{split} $$\n",
    "Do you recognise it? You've already realised $| \\Phi^+ \\rangle $. We challenge you to create and measure the remaining three."
   ]
  },
  {
   "cell_type": "code",
   "execution_count": 34,
   "id": "e9b57680-8036-44e4-9ee0-27959b5bd213",
   "metadata": {},
   "outputs": [],
   "source": [
    "# Create a circuit to realise the 3 remaining Bell states\n",
    "# num_qubits = \n",
    "# qcBells = qk.QuantumCircuit(num_qubits)\n",
    "\n",
    "# ???\n",
    "\n",
    "# print(qcBells)"
   ]
  },
  {
   "cell_type": "code",
   "execution_count": null,
   "id": "54e30f7e-bd2a-41c4-840b-da7a304dac59",
   "metadata": {},
   "outputs": [],
   "source": []
  },
  {
   "cell_type": "code",
   "execution_count": null,
   "id": "85761d52-0f7c-4580-afb7-d07c8a581a38",
   "metadata": {},
   "outputs": [],
   "source": []
  },
  {
   "cell_type": "code",
   "execution_count": null,
   "id": "16769b2e-148a-488e-ae15-a2146696f846",
   "metadata": {},
   "outputs": [],
   "source": []
  },
  {
   "cell_type": "markdown",
   "id": "1da6b521-0296-48c9-b476-3f382920629e",
   "metadata": {},
   "source": [
    "## **QC SANDBOX #3 - Teleportation protocol**"
   ]
  },
  {
   "cell_type": "markdown",
   "id": "1ac01368-d50d-4203-8fb2-a42a561d4f0d",
   "metadata": {},
   "source": [
    "We’ll guide you throuugh the steps of the algorithm, but the actual code is on you! Decide if you want to write it cell by cell, or all together at the end\n"
   ]
  },
  {
   "cell_type": "markdown",
   "id": "f34ed7de-76b8-452a-a2f6-3c75ba85a391",
   "metadata": {},
   "source": [
    "##### 1 -  Three qubits are involved the protocol. Alice has two qubits with her, Bob has the third one.\n",
    "Qubits are initialised in state $| 000 \\rangle $"
   ]
  },
  {
   "cell_type": "code",
   "execution_count": 19,
   "id": "bfabcb1a-14ff-4530-bd80-eaa3dd419c8b",
   "metadata": {},
   "outputs": [],
   "source": [
    "# Your turn! \n",
    "# ???"
   ]
  },
  {
   "cell_type": "markdown",
   "id": "af3e863d-4ea3-4987-b9e4-b8901613b111",
   "metadata": {},
   "source": [
    "##### 2 - Alice and Bob share a pair of entangled qubits in $| \\Phi^+ \\rangle  $\n",
    "Qubits are in state $| 0 \\rangle | \\Phi^+ \\rangle  = \\frac{1}{\\sqrt{2}} (| 000 \\rangle  + | 011 \\rangle )$"
   ]
  },
  {
   "cell_type": "code",
   "execution_count": 16,
   "id": "9d876645-a946-4c1f-b8d4-d883e1e839ef",
   "metadata": {},
   "outputs": [],
   "source": [
    "# ???"
   ]
  },
  {
   "cell_type": "markdown",
   "id": "200c9281-f7f0-482a-99b9-917f930c8ab5",
   "metadata": {},
   "source": [
    "##### 3 - Alice encodes in the first qubit an unknown state $| \\psi \\rangle  = a| 0 \\rangle  + b | 1 \\rangle $ to teleport\n",
    "Prepare an arbitrary state on the third qubit for Alice — you will know it but Alice and Bob don’t. At this point, qubits should be in state $| \\psi \\rangle | \\Phi^+ \\rangle  = a | 0 \\rangle  | \\Phi^+ \\rangle  + b | 1 \\rangle  | \\Phi^+ \\rangle  = \\frac{1}{\\sqrt{2}} \\bigl[a (| 000 \\rangle  + | 011 \\rangle ) + b (| 100 \\rangle  + | 111 \\rangle ) \\bigr]$"
   ]
  },
  {
   "cell_type": "code",
   "execution_count": null,
   "id": "06554f33-0ff6-4dd6-a0a4-e4afa87513d9",
   "metadata": {},
   "outputs": [],
   "source": [
    "# ???"
   ]
  },
  {
   "cell_type": "markdown",
   "id": "973c8dca-6749-40a8-9eed-8fa88c6ae7c4",
   "metadata": {},
   "source": [
    "##### 4 - Alice wants to entangle her two qubits — of course she uses a CNOT on qubit 1 and 2 and a Hadamard gate on qubit 1\n",
    "Pheeew, the expression for the state is quiet long, but bear with us $$ \\begin{split} H & \\frac{1}{\\sqrt{2}} \\bigl[a (|000 \\rangle  + |011 \\rangle ) + b (|110 \\rangle  + |101 \\rangle ) \\bigr] = \\\\ & =\\frac{1}{\\sqrt{2}} \\Biggl[ a \\biggl(\\frac{| 0 \\rangle +|1\\rangle}{\\sqrt{2}}| 00 \\rangle  + \\frac{|0 \\rangle +| 1 \\rangle }{\\sqrt{2}} | 11 \\rangle  \\biggr) + b \\biggl(\\frac{| 0 \\rangle - | 1 \\rangle }{\\sqrt{2}}|10 \\rangle  + \\frac{|0 \\rangle -| 1 \\rangle }{\\sqrt{2}}| 01 \\rangle  \\biggr) \\Biggr] \\end{split}$$"
   ]
  },
  {
   "cell_type": "code",
   "execution_count": null,
   "id": "3cb6f797-12e5-4c87-965b-e6118a6a8ee5",
   "metadata": {},
   "outputs": [],
   "source": [
    "# ???"
   ]
  },
  {
   "cell_type": "markdown",
   "id": "8ac0acc9-30bc-44cb-ad97-664c976ab8ba",
   "metadata": {},
   "source": [
    "##### 5 - Alice measures her 2 qubits. To understand why, let’s give a look at the state. She has equal probability 1/ 4 to measure either 00, 10, 01, or 11\n",
    "The long expression above can in fact be rewritten in a more useful way — feel free to verify it yourself for practice\n",
    "$$\\frac{1}{2} \\biggl[ | 00 \\rangle ( \\alpha | 0 \\rangle + \\beta | 1 \\rangle) + | 10 \\rangle ( \\alpha| 0 \\rangle - \\beta | 1 \\rangle)  + | 01 \\rangle( \\alpha |1 \\rangle + \\beta | 0 \\rangle) + |11 \\rangle ( \\alpha | 1 \\rangle - \\beta | 0 \\rangle) \\biggr] $$"
   ]
  },
  {
   "cell_type": "code",
   "execution_count": null,
   "id": "1757f598-6a16-4931-a3f5-872db93f409d",
   "metadata": {},
   "outputs": [],
   "source": [
    "# ???"
   ]
  },
  {
   "cell_type": "markdown",
   "id": "fb3b29de-1223-46cd-a317-f2baf0332751",
   "metadata": {},
   "source": [
    "##### 6 - Alice sends Bob the bitstring she got as a result— N.B. a piece of classical information, not quantum!\n",
    "When measuring her qubits, Alice perturbed the system and irretrievably lost $| \\psi \\rangle$. Bob can act on his qubit according to the message received to teleport $| \\psi \\rangle$.\n",
    "\n",
    "By looking at the expression above, if Alice sends <br>\n",
    "$00 \\ \\longrightarrow$ Bob's qubit is in $a| 0 \\rangle + b | 1 \\rangle \\  \\longrightarrow$ Bob does nothing, he already has $| \\psi \\rangle$ <br>\n",
    "$10 \\ \\longrightarrow$ Bob's qubit is in $a | 0 \\rangle - b | 1 \\rangle \\  \\longrightarrow$  Bob applies $Z$ <br>\n",
    "$01 \\ \\longrightarrow$ Bob's qubit is in $a | 1 \\rangle + b | 0 \\rangle \\  \\longrightarrow$ Bob applies $X$ <br>\n",
    "$11 \\ \\longrightarrow$ Bob's qubit is in $a | 1 \\rangle - b | 0 \\rangle\\  \\longrightarrow$ Bob applies $X$ then $Z$<br>\n"
   ]
  },
  {
   "cell_type": "code",
   "execution_count": 17,
   "id": "331e0692-0b5d-46df-af07-2f0fed782c0e",
   "metadata": {},
   "outputs": [],
   "source": [
    "# ???\n",
    "# if outcome == 11 then ...\n",
    "\n"
   ]
  },
  {
   "cell_type": "code",
   "execution_count": null,
   "id": "f84f0b78-5c37-48d6-98f2-535a38df29d6",
   "metadata": {},
   "outputs": [],
   "source": []
  }
 ],
 "metadata": {
  "kernelspec": {
   "display_name": "Python 3 (ipykernel)",
   "language": "python",
   "name": "python3"
  },
  "language_info": {
   "codemirror_mode": {
    "name": "ipython",
    "version": 3
   },
   "file_extension": ".py",
   "mimetype": "text/x-python",
   "name": "python",
   "nbconvert_exporter": "python",
   "pygments_lexer": "ipython3",
   "version": "3.9.16"
  }
 },
 "nbformat": 4,
 "nbformat_minor": 5
}
