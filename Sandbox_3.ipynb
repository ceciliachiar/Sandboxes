{
 "cells": [
  {
   "cell_type": "markdown",
   "id": "6e05393e-21f9-4c79-a110-1ebcc5b150d9",
   "metadata": {},
   "source": [
    "# **Quantum Computing — the Soft Way**\n",
    "### *QPlayLearn*"
   ]
  },
  {
   "cell_type": "markdown",
   "id": "8e85ca32-0a3b-4a12-ae17-717607861800",
   "metadata": {},
   "source": [
    "## **Installation**\n",
    "\n",
    "First of all, we start by installing packages in the current environment. Note that these packages will not be installed on your local machine"
   ]
  },
  {
   "cell_type": "code",
   "execution_count": null,
   "id": "a3508187-7879-4f13-bec0-0d27bb9d90e2",
   "metadata": {},
   "outputs": [],
   "source": [
    "# Qiskit is the open-source library for quantum computing founded by IBM\n",
    "! pip install qiskit qiskit-aer qiskit-ibm-runtime \n",
    "! pip install matplotlib pylatexenc"
   ]
  },
  {
   "cell_type": "markdown",
   "id": "dd26861d-b10f-4de1-9747-8ae1edd0d353",
   "metadata": {},
   "source": [
    "## **Importing packages**\n",
    "\n",
    "We import all the packages we are going to need to run the code. \n",
    "<br> N.B. Remember to run this cell before every Sandbox!"
   ]
  },
  {
   "cell_type": "code",
   "execution_count": 1,
   "id": "48dd4639-e9d6-4f8c-9c39-3aeb75deb120",
   "metadata": {},
   "outputs": [],
   "source": [
    "# Qiskit is the open-source library for quantum computing founded by IBM\n",
    "import qiskit as qk\n",
    "from qiskit.quantum_info import Statevector # to get the state coefficients\n",
    "from qiskit_aer import AerSimulator # to run circuits on the quantum computer simulator\n",
    "from qiskit.visualization import plot_bloch_multivector, plot_bloch_vector, plot_histogram\n",
    "\n",
    "# Packages for graphical representations and plots\n",
    "import matplotlib as mpl\n",
    "import matplotlib.pyplot as plt\n",
    "\n",
    "# Math library\n",
    "import numpy as np"
   ]
  },
  {
   "cell_type": "markdown",
   "id": "1da6b521-0296-48c9-b476-3f382920629e",
   "metadata": {},
   "source": [
    "## **QC SANDBOX #3 - Teleportation protocol**"
   ]
  },
  {
   "cell_type": "markdown",
   "id": "1ac01368-d50d-4203-8fb2-a42a561d4f0d",
   "metadata": {},
   "source": [
    "We’ll guide you throuugh the steps of the algorithm, but the actual code is on you! Decide if you want to write it cell by cell, or all together at the end\n"
   ]
  },
  {
   "cell_type": "markdown",
   "id": "f34ed7de-76b8-452a-a2f6-3c75ba85a391",
   "metadata": {},
   "source": [
    "##### 1 -  Three qubits are involved the protocol. Alice has two qubits with her, Bob has the third one.\n",
    "Qubits are initialised in state $| 000 \\rangle $"
   ]
  },
  {
   "cell_type": "code",
   "execution_count": 19,
   "id": "bfabcb1a-14ff-4530-bd80-eaa3dd419c8b",
   "metadata": {},
   "outputs": [],
   "source": [
    "# Your turn! \n",
    "# ???"
   ]
  },
  {
   "cell_type": "markdown",
   "id": "af3e863d-4ea3-4987-b9e4-b8901613b111",
   "metadata": {},
   "source": [
    "##### 2 - Alice and Bob share a pair of entangled qubits in $| \\Phi^+ \\rangle  $\n",
    "Qubits are in state $| 0 \\rangle | \\Phi^+ \\rangle  = \\frac{1}{\\sqrt{2}} (| 000 \\rangle  + | 011 \\rangle )$"
   ]
  },
  {
   "cell_type": "code",
   "execution_count": 16,
   "id": "9d876645-a946-4c1f-b8d4-d883e1e839ef",
   "metadata": {},
   "outputs": [],
   "source": [
    "# ???"
   ]
  },
  {
   "cell_type": "markdown",
   "id": "200c9281-f7f0-482a-99b9-917f930c8ab5",
   "metadata": {},
   "source": [
    "##### 3 - Alice encodes in the first qubit an unknown state $| \\psi \\rangle  = a| 0 \\rangle  + b | 1 \\rangle $ to teleport\n",
    "Prepare an arbitrary state on the third qubit for Alice — you will know it but Alice and Bob don’t. At this point, qubits should be in state $| \\psi \\rangle | \\Phi^+ \\rangle  = a | 0 \\rangle  | \\Phi^+ \\rangle  + b | 1 \\rangle  | \\Phi^+ \\rangle  = \\frac{1}{\\sqrt{2}} \\bigl[a (| 000 \\rangle  + | 011 \\rangle ) + b (| 100 \\rangle  + | 111 \\rangle ) \\bigr]$"
   ]
  },
  {
   "cell_type": "code",
   "execution_count": null,
   "id": "06554f33-0ff6-4dd6-a0a4-e4afa87513d9",
   "metadata": {},
   "outputs": [],
   "source": [
    "# ???"
   ]
  },
  {
   "cell_type": "markdown",
   "id": "973c8dca-6749-40a8-9eed-8fa88c6ae7c4",
   "metadata": {},
   "source": [
    "##### 4 - Alice wants to entangle her two qubits — of course she uses a CNOT on qubit 1 and 2 and a Hadamard gate on qubit 1\n",
    "Pheeew, the expression for the state is quite long, but bear with us $$ \\begin{split} H & \\frac{1}{\\sqrt{2}} \\bigl[a (|000 \\rangle  + |011 \\rangle ) + b (|110 \\rangle  + |101 \\rangle ) \\bigr] = \\\\ & =\\frac{1}{\\sqrt{2}} \\Biggl[ a \\biggl(\\frac{| 0 \\rangle +|1\\rangle}{\\sqrt{2}}| 00 \\rangle  + \\frac{|0 \\rangle +| 1 \\rangle }{\\sqrt{2}} | 11 \\rangle  \\biggr) + b \\biggl(\\frac{| 0 \\rangle - | 1 \\rangle }{\\sqrt{2}}|10 \\rangle  + \\frac{|0 \\rangle -| 1 \\rangle }{\\sqrt{2}}| 01 \\rangle  \\biggr) \\Biggr] \\end{split}$$"
   ]
  },
  {
   "cell_type": "code",
   "execution_count": null,
   "id": "3cb6f797-12e5-4c87-965b-e6118a6a8ee5",
   "metadata": {},
   "outputs": [],
   "source": [
    "# ???"
   ]
  },
  {
   "cell_type": "markdown",
   "id": "8ac0acc9-30bc-44cb-ad97-664c976ab8ba",
   "metadata": {},
   "source": [
    "##### 5 - Alice measures her 2 qubits. To understand why, let’s give a look at the state. She has equal probability 1/ 4 to measure either 00, 10, 01, or 11\n",
    "The long expression above can in fact be rewritten in a more useful way — feel free to verify it yourself for practice\n",
    "$$\\frac{1}{2} \\biggl[ | 00 \\rangle ( \\alpha | 0 \\rangle + \\beta | 1 \\rangle) + | 10 \\rangle ( \\alpha| 0 \\rangle - \\beta | 1 \\rangle)  + | 01 \\rangle( \\alpha |1 \\rangle + \\beta | 0 \\rangle) + |11 \\rangle ( \\alpha | 1 \\rangle - \\beta | 0 \\rangle) \\biggr] $$"
   ]
  },
  {
   "cell_type": "code",
   "execution_count": null,
   "id": "1757f598-6a16-4931-a3f5-872db93f409d",
   "metadata": {},
   "outputs": [],
   "source": [
    "# ???"
   ]
  },
  {
   "cell_type": "markdown",
   "id": "fb3b29de-1223-46cd-a317-f2baf0332751",
   "metadata": {},
   "source": [
    "##### 6 - Alice sends Bob the bitstring she got as a result— N.B. a piece of classical information, not quantum!\n",
    "When measuring her qubits, Alice perturbed the system and irretrievably lost $| \\psi \\rangle$. Bob can act on his qubit according to the message received to teleport $| \\psi \\rangle$.\n",
    "\n",
    "By looking at the expression above, if Alice sends <br>\n",
    "$00 \\ \\longrightarrow$ Bob's qubit is in $a| 0 \\rangle + b | 1 \\rangle \\  \\longrightarrow$ Bob does nothing, he already has $| \\psi \\rangle$ <br>\n",
    "$10 \\ \\longrightarrow$ Bob's qubit is in $a | 0 \\rangle - b | 1 \\rangle \\  \\longrightarrow$  Bob applies $Z$ <br>\n",
    "$01 \\ \\longrightarrow$ Bob's qubit is in $a | 1 \\rangle + b | 0 \\rangle \\  \\longrightarrow$ Bob applies $X$ <br>\n",
    "$11 \\ \\longrightarrow$ Bob's qubit is in $a | 1 \\rangle - b | 0 \\rangle\\  \\longrightarrow$ Bob applies $X$ then $Z$<br>\n"
   ]
  },
  {
   "cell_type": "code",
   "execution_count": 17,
   "id": "331e0692-0b5d-46df-af07-2f0fed782c0e",
   "metadata": {},
   "outputs": [],
   "source": [
    "# ???\n",
    "# if outcome == 11 then ...\n",
    "\n"
   ]
  }
 ],
 "metadata": {
  "kernelspec": {
   "display_name": "Python 3 (ipykernel)",
   "language": "python",
   "name": "python3"
  },
  "language_info": {
   "codemirror_mode": {
    "name": "ipython",
    "version": 3
   },
   "file_extension": ".py",
   "mimetype": "text/x-python",
   "name": "python",
   "nbconvert_exporter": "python",
   "pygments_lexer": "ipython3",
   "version": "3.9.16"
  }
 },
 "nbformat": 4,
 "nbformat_minor": 5
}
