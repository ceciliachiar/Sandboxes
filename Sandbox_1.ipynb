{
 "cells": [
  {
   "cell_type": "markdown",
   "id": "6e05393e-21f9-4c79-a110-1ebcc5b150d9",
   "metadata": {},
   "source": [
    "# **Quantum Computing — the Soft Way**\n",
    "### *QPlayLearn*"
   ]
  },
  {
   "cell_type": "markdown",
   "id": "8e85ca32-0a3b-4a12-ae17-717607861800",
   "metadata": {},
   "source": [
    "## **Installation**\n",
    "\n",
    "First of all, we start by installing packages in the current environment. Note that these packages will not be installed on your local machine"
   ]
  },
  {
   "cell_type": "code",
   "execution_count": 23,
   "id": "a3508187-7879-4f13-bec0-0d27bb9d90e2",
   "metadata": {},
   "outputs": [],
   "source": [
    "# Qiskit is the open-source library for quantum computing founded by IBM\n",
    "! pip install qiskit qiskit-aer==0.17.0 qiskit-ibm-runtime requests==2.32.3\n",
    "! pip install matplotlib pylatexenc"
   ]
  },
  {
   "cell_type": "markdown",
   "id": "dd26861d-b10f-4de1-9747-8ae1edd0d353",
   "metadata": {},
   "source": [
    "## **Importing packages**\n",
    "\n",
    "We import all the packages we are going to need to run the code. \n",
    "<br> N.B. Remember to run this cell before every Sandbox!"
   ]
  },
  {
   "cell_type": "code",
   "execution_count": 11,
   "id": "48dd4639-e9d6-4f8c-9c39-3aeb75deb120",
   "metadata": {},
   "outputs": [],
   "source": [
    "# Qiskit is the open-source library for quantum computing founded by IBM\n",
    "import qiskit as qk\n",
    "from qiskit.quantum_info import Statevector # to get the state coefficients\n",
    "from qiskit_aer import AerSimulator # to run circuits on the quantum computer simulator\n",
    "from qiskit.visualization import plot_bloch_multivector, plot_bloch_vector, plot_histogram\n",
    "\n",
    "# Packages for graphical representations and plots\n",
    "import matplotlib as mpl\n",
    "import matplotlib.pyplot as plt\n",
    "\n",
    "# Math library\n",
    "import numpy as np"
   ]
  },
  {
   "cell_type": "markdown",
   "id": "bb3c8806-6bce-4f69-accf-32ae42c5b210",
   "metadata": {},
   "source": [
    "## **QC SANDBOX #1 - Amplitude game**"
   ]
  },
  {
   "cell_type": "markdown",
   "id": "8a9ceb59-7f60-4523-868a-1fb68eb8c93e",
   "metadata": {},
   "source": [
    "Let's start by creating a simple quantum circuit with 1 qubit. We can represent it visually as we saw earlier in the course."
   ]
  },
  {
   "cell_type": "code",
   "execution_count": 19,
   "id": "b1001f74-0674-4870-8338-fec6a64db965",
   "metadata": {},
   "outputs": [],
   "source": [
    "# Create a quantum circuit with 1 qubit\n",
    "num_qubits = 1\n",
    "qc = qk.QuantumCircuit(num_qubits)\n",
    "\n",
    "# Apply a X gate on the qubit\n",
    "qc.x(0)\n",
    "\n",
    "# Play with other single qubit gates uncommenting the following lines\n",
    "#qc.y(0)\n",
    "#qc.h(0)\n",
    "\n",
    "\n",
    "# Draw a graphical representation of the circuit (using matplotlib)\n",
    "#qc.draw(output=\"mpl\")"
   ]
  },
  {
   "cell_type": "markdown",
   "id": "aadb4da7-1c81-494b-87ee-159e906268f8",
   "metadata": {},
   "source": [
    "The X gate transform the initial state into $|\\psi_{final} \\rangle = X |\\psi_{initial}\\rangle$, and, at this point, we should be able to calculate by hand the result. However, on Qiskit we can quickly check it in the form of the array of coefficients or amplitudes $$ |\\psi_{final}\\rangle = a |0 \\rangle + b |1 \\rangle =  [a, b]$$"
   ]
  },
  {
   "cell_type": "code",
   "execution_count": 20,
   "id": "de4ebc7f-6366-4a49-b61b-f48344d8cff8",
   "metadata": {},
   "outputs": [],
   "source": [
    "# Compute the final state of the quantum circuit. Note that j is the imaginary unit\n",
    "psi = Statevector(qc)\n",
    "print(\"|psi_final> = \", psi.data)"
   ]
  },
  {
   "cell_type": "markdown",
   "id": "17410c23-5a44-4a35-b5ce-9238a94765d9",
   "metadata": {},
   "source": [
    "**Bloch sphere representation**\n",
    "\n",
    "We can visualise the representation of $|\\psi_{final} \\rangle$ on the Bloch sphere. Is it what you were expecting?"
   ]
  },
  {
   "cell_type": "code",
   "execution_count": 6,
   "id": "eb960da2-42d8-46b3-a6e1-659aad6ffa18",
   "metadata": {},
   "outputs": [],
   "source": [
    "# Plot its representation in the Bloch sphere\n",
    "plot_bloch_multivector(qc)"
   ]
  },
  {
   "cell_type": "markdown",
   "id": "397dca13-6048-4a43-bb05-8c122875263e",
   "metadata": {},
   "source": [
    "A generic single qubit state $|\\psi \\rangle = a| 0 \\rangle + b| 1 \\rangle$ can be visualised via the relations between complex coefficients $a$ and $b$ and the spherical coordinates on the Bloch sphere $\\theta$, $\\varphi$. You can derive them yourself in the In-depth content in _2. Qubits, superposition, and entanglement_, or use the function defined below."
   ]
  },
  {
   "cell_type": "code",
   "execution_count": 8,
   "id": "37ef5a88-f197-47dd-adff-281fae010ad9",
   "metadata": {},
   "outputs": [],
   "source": [
    "def coeff_to_sphere(a,b):\n",
    "    \"\"\"\n",
    "    Calculate spherical coordinates for the Bloch sphere from state coefficients\n",
    "    \"\"\"\n",
    "    b_phase = np.arctan2( np.imag(b),np.real(b)) \n",
    "    a_phase= np.arctan2( np.imag(a),np.real(a))\n",
    "    phi = b_phase - a_phase\n",
    "\n",
    "    a_magn = np.sqrt(np.real(a)**2 + np.imag(a)**2)\n",
    "    theta=2*np.acos(a_magn)\n",
    "    return theta, phi"
   ]
  },
  {
   "cell_type": "markdown",
   "id": "6e4477f9-dee8-4f44-befb-b9bdac6df1aa",
   "metadata": {},
   "source": [
    "For example, let's see the case of $$| \\psi \\rangle = \\frac{i}{\\sqrt{2}} | 0 \\rangle +\\frac{1}{\\sqrt{2}} |1 \\rangle$$"
   ]
  },
  {
   "cell_type": "code",
   "execution_count": 10,
   "id": "2339c0fb-b175-4b48-aef8-8583c4785160",
   "metadata": {},
   "outputs": [],
   "source": [
    "# These are the state coefficients\n",
    "a = 1j/np.sqrt(2)\n",
    "b = 1/np.sqrt(2)\n",
    "\n",
    "# Obtain spherical coordinates\n",
    "theta, phi = coeff_to_sphere(a,b)\n",
    "\n",
    "# Plot its representation in the Bloch sphere, using spherical coordinates this time!\n",
    "plot_bloch_vector([1, theta, phi], coord_type='spherical')\n"
   ]
  },
  {
   "cell_type": "markdown",
   "id": "054bf0cf-8c96-4b43-8e51-a1d76a7c260e",
   "metadata": {},
   "source": [
    "**Let's play the Amplitude Game!**<br> Now that you've seen it on the Bloch sphere, compose the circuit to build the following state  $$| \\psi \\rangle = \\frac{i}{\\sqrt{2}} | 0 \\rangle +\\frac{1}{\\sqrt{2}} | 1 \\rangle$$ \n",
    "and check if you managed to reproduce it.\n",
    "\n",
    "\n",
    "Tip: remember how each gate acts on the Bloch sphere!"
   ]
  },
  {
   "cell_type": "code",
   "execution_count": 22,
   "id": "8eee8977-6a3f-48f0-b804-26f453abbe84",
   "metadata": {},
   "outputs": [],
   "source": [
    "# Amplitude game circuit\n",
    "num_qubits = 1\n",
    "qc = qk.QuantumCircuit(num_qubits)\n",
    "\n",
    "# Now it's your turn! Apply different gates to reproduce the state above\n",
    "# After you're done, check the result with\n",
    "#plot_bloch_multivector(qc)\n",
    "\n",
    "qc.draw(output=\"mpl\")\n"
   ]
  },
  {
   "cell_type": "code",
   "execution_count": null,
   "id": "56596619-9daf-41b1-a41f-3d979c3d7554",
   "metadata": {},
   "outputs": [],
   "source": []
  }
 ],
 "metadata": {
  "kernelspec": {
   "display_name": "Python 3 (ipykernel)",
   "language": "python",
   "name": "python3"
  },
  "language_info": {
   "codemirror_mode": {
    "name": "ipython",
    "version": 3
   },
   "file_extension": ".py",
   "mimetype": "text/x-python",
   "name": "python",
   "nbconvert_exporter": "python",
   "pygments_lexer": "ipython3",
   "version": "3.9.16"
  }
 },
 "nbformat": 4,
 "nbformat_minor": 5
}
