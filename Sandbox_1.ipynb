{
 "cells": [
  {
   "cell_type": "markdown",
   "id": "6e05393e-21f9-4c79-a110-1ebcc5b150d9",
   "metadata": {},
   "source": [
    "# **Quantum Computing — the soft way**\n",
    "### *QPlayLearn*"
   ]
  },
  {
   "cell_type": "markdown",
   "id": "8e85ca32-0a3b-4a12-ae17-717607861800",
   "metadata": {},
   "source": [
    "## **Installation**\n",
    "\n",
    "First of all, we start by installing packages in the current environment. Note that these packages will not be installed on your local machine"
   ]
  },
  {
   "cell_type": "code",
   "execution_count": null,
   "id": "a3508187-7879-4f13-bec0-0d27bb9d90e2",
   "metadata": {},
   "outputs": [],
   "source": [
    "# Qiskit is the open-source library for quantum computing founded by IBM\n",
    "! pip install qiskit qiskit-aer qiskit-ibm-runtime \n",
    "! pip install matplotlib pylatexenc"
   ]
  },
  {
   "cell_type": "markdown",
   "id": "dd26861d-b10f-4de1-9747-8ae1edd0d353",
   "metadata": {},
   "source": [
    "## **Importing packages**\n",
    "\n",
    "We import all the packages we are going to need to run the code. \n",
    "<br> N.B. Remember to run this cell before every Sandbox!"
   ]
  },
  {
   "cell_type": "code",
   "execution_count": 1,
   "id": "48dd4639-e9d6-4f8c-9c39-3aeb75deb120",
   "metadata": {},
   "outputs": [],
   "source": [
    "# Qiskit is the open-source library for quantum computing founded by IBM\n",
    "import qiskit as qk\n",
    "from qiskit.quantum_info import Statevector # to get the state coefficients\n",
    "from qiskit_aer import AerSimulator # to run circuits on the quantum computer simulator\n",
    "from qiskit.visualization import plot_bloch_multivector, plot_bloch_vector, plot_histogram\n",
    "\n",
    "# Packages for graphical representations and plots\n",
    "import matplotlib as mpl\n",
    "import matplotlib.pyplot as plt\n",
    "\n",
    "# Math library\n",
    "import numpy as np"
   ]
  },
  {
   "cell_type": "markdown",
   "id": "bb3c8806-6bce-4f69-accf-32ae42c5b210",
   "metadata": {},
   "source": [
    "## **QC SANDBOX #1 - Amplitude game**"
   ]
  },
  {
   "cell_type": "markdown",
   "id": "8a9ceb59-7f60-4523-868a-1fb68eb8c93e",
   "metadata": {},
   "source": [
    "Let's start by creating a simple quantum circuit with 1 qubit. We can represent it visually as we saw earlier in the course."
   ]
  },
  {
   "cell_type": "code",
   "execution_count": 17,
   "id": "b1001f74-0674-4870-8338-fec6a64db965",
   "metadata": {},
   "outputs": [
    {
     "ename": "CircuitError",
     "evalue": "'Index 1 out of range for size 1.'",
     "output_type": "error",
     "traceback": [
      "\u001b[0;31m---------------------------------------------------------------------------\u001b[0m",
      "\u001b[0;31mIndexError\u001b[0m                                Traceback (most recent call last)",
      "File \u001b[0;32m/opt/homebrew/anaconda3/envs/sandboxes/lib/python3.9/site-packages/qiskit/circuit/quantumcircuit.py:6753\u001b[0m, in \u001b[0;36m_bit_argument_conversion\u001b[0;34m(specifier, bit_sequence, bit_set, type_)\u001b[0m\n\u001b[1;32m   6752\u001b[0m \u001b[38;5;28;01mtry\u001b[39;00m:\n\u001b[0;32m-> 6753\u001b[0m     \u001b[38;5;28;01mreturn\u001b[39;00m [\u001b[43mbit_sequence\u001b[49m\u001b[43m[\u001b[49m\u001b[43mspecifier\u001b[49m\u001b[43m]\u001b[49m]\n\u001b[1;32m   6754\u001b[0m \u001b[38;5;28;01mexcept\u001b[39;00m \u001b[38;5;167;01mIndexError\u001b[39;00m \u001b[38;5;28;01mas\u001b[39;00m ex:\n",
      "\u001b[0;31mIndexError\u001b[0m: list index out of range",
      "\nThe above exception was the direct cause of the following exception:\n",
      "\u001b[0;31mCircuitError\u001b[0m                              Traceback (most recent call last)",
      "Cell \u001b[0;32mIn[17], line 8\u001b[0m\n\u001b[1;32m      6\u001b[0m qc\u001b[38;5;241m.\u001b[39mh(\u001b[38;5;241m0\u001b[39m)\n\u001b[1;32m      7\u001b[0m qc\u001b[38;5;241m.\u001b[39mz(\u001b[38;5;241m0\u001b[39m)\n\u001b[0;32m----> 8\u001b[0m \u001b[43mqc\u001b[49m\u001b[38;5;241;43m.\u001b[39;49m\u001b[43mh\u001b[49m\u001b[43m(\u001b[49m\u001b[38;5;241;43m1\u001b[39;49m\u001b[43m)\u001b[49m\n\u001b[1;32m     11\u001b[0m \u001b[38;5;66;03m# Play with other single qubit gates!\u001b[39;00m\n\u001b[1;32m     12\u001b[0m \u001b[38;5;66;03m# qc.y(0)\u001b[39;00m\n\u001b[1;32m     13\u001b[0m \u001b[38;5;66;03m# qc.h(0)\u001b[39;00m\n\u001b[1;32m     14\u001b[0m \n\u001b[1;32m     15\u001b[0m \n\u001b[1;32m     16\u001b[0m \u001b[38;5;66;03m# Draw a graphical representation of the circuit (using matplotlib)\u001b[39;00m\n\u001b[1;32m     17\u001b[0m \u001b[38;5;28mprint\u001b[39m(qc)\n",
      "File \u001b[0;32m/opt/homebrew/anaconda3/envs/sandboxes/lib/python3.9/site-packages/qiskit/circuit/quantumcircuit.py:4505\u001b[0m, in \u001b[0;36mQuantumCircuit.h\u001b[0;34m(self, qubit)\u001b[0m\n\u001b[1;32m   4494\u001b[0m \u001b[38;5;28;01mdef\u001b[39;00m \u001b[38;5;21mh\u001b[39m(\u001b[38;5;28mself\u001b[39m, qubit: QubitSpecifier) \u001b[38;5;241m-\u001b[39m\u001b[38;5;241m>\u001b[39m InstructionSet:\n\u001b[1;32m   4495\u001b[0m \u001b[38;5;250m    \u001b[39m\u001b[38;5;124;03m\"\"\"Apply :class:`~qiskit.circuit.library.HGate`.\u001b[39;00m\n\u001b[1;32m   4496\u001b[0m \n\u001b[1;32m   4497\u001b[0m \u001b[38;5;124;03m    For the full matrix form of this gate, see the underlying gate documentation.\u001b[39;00m\n\u001b[0;32m   (...)\u001b[0m\n\u001b[1;32m   4503\u001b[0m \u001b[38;5;124;03m        A handle to the instructions created.\u001b[39;00m\n\u001b[1;32m   4504\u001b[0m \u001b[38;5;124;03m    \"\"\"\u001b[39;00m\n\u001b[0;32m-> 4505\u001b[0m     \u001b[38;5;28;01mreturn\u001b[39;00m \u001b[38;5;28;43mself\u001b[39;49m\u001b[38;5;241;43m.\u001b[39;49m\u001b[43m_append_standard_gate\u001b[49m\u001b[43m(\u001b[49m\u001b[43mStandardGate\u001b[49m\u001b[38;5;241;43m.\u001b[39;49m\u001b[43mHGate\u001b[49m\u001b[43m,\u001b[49m\u001b[43m \u001b[49m\u001b[43m[\u001b[49m\u001b[43mqubit\u001b[49m\u001b[43m]\u001b[49m\u001b[43m,\u001b[49m\u001b[43m \u001b[49m\u001b[43m(\u001b[49m\u001b[43m)\u001b[49m\u001b[43m)\u001b[49m\n",
      "File \u001b[0;32m/opt/homebrew/anaconda3/envs/sandboxes/lib/python3.9/site-packages/qiskit/circuit/quantumcircuit.py:2444\u001b[0m, in \u001b[0;36mQuantumCircuit._append_standard_gate\u001b[0;34m(self, op, qargs, params, label)\u001b[0m\n\u001b[1;32m   2441\u001b[0m \u001b[38;5;28;01mif\u001b[39;00m params \u001b[38;5;129;01mis\u001b[39;00m \u001b[38;5;28;01mNone\u001b[39;00m:\n\u001b[1;32m   2442\u001b[0m     params \u001b[38;5;241m=\u001b[39m []\n\u001b[0;32m-> 2444\u001b[0m expanded_qargs \u001b[38;5;241m=\u001b[39m [\u001b[38;5;28mself\u001b[39m\u001b[38;5;241m.\u001b[39m_qbit_argument_conversion(qarg) \u001b[38;5;28;01mfor\u001b[39;00m qarg \u001b[38;5;129;01min\u001b[39;00m qargs \u001b[38;5;129;01mor\u001b[39;00m []]\n\u001b[1;32m   2445\u001b[0m \u001b[38;5;28;01mfor\u001b[39;00m param \u001b[38;5;129;01min\u001b[39;00m params:\n\u001b[1;32m   2446\u001b[0m     Gate\u001b[38;5;241m.\u001b[39mvalidate_parameter(op, param)\n",
      "File \u001b[0;32m/opt/homebrew/anaconda3/envs/sandboxes/lib/python3.9/site-packages/qiskit/circuit/quantumcircuit.py:2444\u001b[0m, in \u001b[0;36m<listcomp>\u001b[0;34m(.0)\u001b[0m\n\u001b[1;32m   2441\u001b[0m \u001b[38;5;28;01mif\u001b[39;00m params \u001b[38;5;129;01mis\u001b[39;00m \u001b[38;5;28;01mNone\u001b[39;00m:\n\u001b[1;32m   2442\u001b[0m     params \u001b[38;5;241m=\u001b[39m []\n\u001b[0;32m-> 2444\u001b[0m expanded_qargs \u001b[38;5;241m=\u001b[39m [\u001b[38;5;28;43mself\u001b[39;49m\u001b[38;5;241;43m.\u001b[39;49m\u001b[43m_qbit_argument_conversion\u001b[49m\u001b[43m(\u001b[49m\u001b[43mqarg\u001b[49m\u001b[43m)\u001b[49m \u001b[38;5;28;01mfor\u001b[39;00m qarg \u001b[38;5;129;01min\u001b[39;00m qargs \u001b[38;5;129;01mor\u001b[39;00m []]\n\u001b[1;32m   2445\u001b[0m \u001b[38;5;28;01mfor\u001b[39;00m param \u001b[38;5;129;01min\u001b[39;00m params:\n\u001b[1;32m   2446\u001b[0m     Gate\u001b[38;5;241m.\u001b[39mvalidate_parameter(op, param)\n",
      "File \u001b[0;32m/opt/homebrew/anaconda3/envs/sandboxes/lib/python3.9/site-packages/qiskit/circuit/quantumcircuit.py:2393\u001b[0m, in \u001b[0;36mQuantumCircuit._qbit_argument_conversion\u001b[0;34m(self, qubit_representation)\u001b[0m\n\u001b[1;32m   2382\u001b[0m \u001b[38;5;28;01mdef\u001b[39;00m \u001b[38;5;21m_qbit_argument_conversion\u001b[39m(\u001b[38;5;28mself\u001b[39m, qubit_representation: QubitSpecifier) \u001b[38;5;241m-\u001b[39m\u001b[38;5;241m>\u001b[39m \u001b[38;5;28mlist\u001b[39m[Qubit]:\n\u001b[1;32m   2383\u001b[0m \u001b[38;5;250m    \u001b[39m\u001b[38;5;124;03m\"\"\"\u001b[39;00m\n\u001b[1;32m   2384\u001b[0m \u001b[38;5;124;03m    Converts several qubit representations (such as indexes, range, etc.)\u001b[39;00m\n\u001b[1;32m   2385\u001b[0m \u001b[38;5;124;03m    into a list of qubits.\u001b[39;00m\n\u001b[0;32m   (...)\u001b[0m\n\u001b[1;32m   2391\u001b[0m \u001b[38;5;124;03m        The resolved instances of the qubits.\u001b[39;00m\n\u001b[1;32m   2392\u001b[0m \u001b[38;5;124;03m    \"\"\"\u001b[39;00m\n\u001b[0;32m-> 2393\u001b[0m     \u001b[38;5;28;01mreturn\u001b[39;00m \u001b[43m_bit_argument_conversion\u001b[49m\u001b[43m(\u001b[49m\n\u001b[1;32m   2394\u001b[0m \u001b[43m        \u001b[49m\u001b[43mqubit_representation\u001b[49m\u001b[43m,\u001b[49m\u001b[43m \u001b[49m\u001b[38;5;28;43mself\u001b[39;49m\u001b[38;5;241;43m.\u001b[39;49m\u001b[43mqubits\u001b[49m\u001b[43m,\u001b[49m\u001b[43m \u001b[49m\u001b[38;5;28;43mself\u001b[39;49m\u001b[38;5;241;43m.\u001b[39;49m\u001b[43m_qubit_indices\u001b[49m\u001b[43m,\u001b[49m\u001b[43m \u001b[49m\u001b[43mQubit\u001b[49m\n\u001b[1;32m   2395\u001b[0m \u001b[43m    \u001b[49m\u001b[43m)\u001b[49m\n",
      "File \u001b[0;32m/opt/homebrew/anaconda3/envs/sandboxes/lib/python3.9/site-packages/qiskit/circuit/quantumcircuit.py:6755\u001b[0m, in \u001b[0;36m_bit_argument_conversion\u001b[0;34m(specifier, bit_sequence, bit_set, type_)\u001b[0m\n\u001b[1;32m   6753\u001b[0m         \u001b[38;5;28;01mreturn\u001b[39;00m [bit_sequence[specifier]]\n\u001b[1;32m   6754\u001b[0m     \u001b[38;5;28;01mexcept\u001b[39;00m \u001b[38;5;167;01mIndexError\u001b[39;00m \u001b[38;5;28;01mas\u001b[39;00m ex:\n\u001b[0;32m-> 6755\u001b[0m         \u001b[38;5;28;01mraise\u001b[39;00m CircuitError(\n\u001b[1;32m   6756\u001b[0m             \u001b[38;5;124mf\u001b[39m\u001b[38;5;124m\"\u001b[39m\u001b[38;5;124mIndex \u001b[39m\u001b[38;5;132;01m{\u001b[39;00mspecifier\u001b[38;5;132;01m}\u001b[39;00m\u001b[38;5;124m out of range for size \u001b[39m\u001b[38;5;132;01m{\u001b[39;00m\u001b[38;5;28mlen\u001b[39m(bit_sequence)\u001b[38;5;132;01m}\u001b[39;00m\u001b[38;5;124m.\u001b[39m\u001b[38;5;124m\"\u001b[39m\n\u001b[1;32m   6757\u001b[0m         ) \u001b[38;5;28;01mfrom\u001b[39;00m \u001b[38;5;21;01mex\u001b[39;00m\n\u001b[1;32m   6758\u001b[0m \u001b[38;5;66;03m# Slices can't raise IndexError - they just return an empty list.\u001b[39;00m\n\u001b[1;32m   6759\u001b[0m \u001b[38;5;28;01mif\u001b[39;00m \u001b[38;5;28misinstance\u001b[39m(specifier, \u001b[38;5;28mslice\u001b[39m):\n",
      "\u001b[0;31mCircuitError\u001b[0m: 'Index 1 out of range for size 1.'"
     ]
    }
   ],
   "source": [
    "# Create a quantum circuit with 1 qubit\n",
    "num_qubits = 1\n",
    "qc = qk.QuantumCircuit(num_qubits)\n",
    "\n",
    "# Apply a X gate on the qubit\n",
    "# qc.x(0)\n",
    "\n",
    "# Play with other single qubit gates!\n",
    "# qc.y(0)\n",
    "# qc.h(0)\n",
    "\n",
    "\n",
    "# Draw a graphical representation of the circuit (using matplotlib)\n",
    "# print(qc)"
   ]
  },
  {
   "cell_type": "markdown",
   "id": "aadb4da7-1c81-494b-87ee-159e906268f8",
   "metadata": {},
   "source": [
    "The X gate transform the initial state into $|\\psi_{final} \\rangle = X |\\psi_{initial}\\rangle$, and, at this point, we should be able to calculate by hand the result. However, on Qiskit we can quickly check it in the form of the array of coefficients or amplitudes $$ |\\psi_{final}\\rangle = a |0 \\rangle + b |1 \\rangle =  [a, b]$$"
   ]
  },
  {
   "cell_type": "code",
   "execution_count": 15,
   "id": "de4ebc7f-6366-4a49-b61b-f48344d8cff8",
   "metadata": {},
   "outputs": [
    {
     "name": "stdout",
     "output_type": "stream",
     "text": [
      "|psi_final> =  [ 0.70710678+0.j -0.70710678+0.j]\n"
     ]
    }
   ],
   "source": [
    "# Compute the final state of the quantum circuit. Note that j is the imaginary unit\n",
    "psi = Statevector(qc)\n",
    "print(\"|psi_final> = \", psi.data)"
   ]
  },
  {
   "cell_type": "markdown",
   "id": "17410c23-5a44-4a35-b5ce-9238a94765d9",
   "metadata": {},
   "source": [
    "**Bloch sphere representation**\n",
    "\n",
    "We can represent the representation of $|\\psi_{final} \\rangle$ on the Bloch sphere. Is it what you were expecting?"
   ]
  },
  {
   "cell_type": "code",
   "execution_count": 6,
   "id": "eb960da2-42d8-46b3-a6e1-659aad6ffa18",
   "metadata": {},
   "outputs": [],
   "source": [
    "# Plot its representation in the Bloch sphere\n",
    "plot_bloch_multivector(qc)"
   ]
  },
  {
   "cell_type": "markdown",
   "id": "397dca13-6048-4a43-bb05-8c122875263e",
   "metadata": {},
   "source": [
    "A generic single qubit state $|\\psi \\rangle = a| 0 \\rangle + b| 1 \\rangle$ can be visualised via the relations between complex coefficients $a$ and $b$ and the spherical coordinates on the Bloch sphere $\\theta$, $\\varphi$. You can derive them yourself in the In-depth content of Chapter 2, or use the function defined below."
   ]
  },
  {
   "cell_type": "code",
   "execution_count": 8,
   "id": "37ef5a88-f197-47dd-adff-281fae010ad9",
   "metadata": {},
   "outputs": [],
   "source": [
    "def coeff_to_sphere(a,b):\n",
    "    \"\"\"\n",
    "    Calculate spherical coordinates for the Bloch sphere from state coefficients\n",
    "    \"\"\"\n",
    "    b_phase = np.arctan2( np.imag(b),np.real(b)) \n",
    "    a_phase= np.arctan2( np.imag(a),np.real(a))\n",
    "    phi = b_phase - a_phase\n",
    "\n",
    "    a_magn = np.sqrt(np.real(a)**2 + np.imag(a)**2)\n",
    "    theta=2*np.acos(a_magn)\n",
    "    return theta, phi"
   ]
  },
  {
   "cell_type": "markdown",
   "id": "6e4477f9-dee8-4f44-befb-b9bdac6df1aa",
   "metadata": {},
   "source": [
    "For example, let's see the case of $$| \\psi \\rangle = \\frac{i}{\\sqrt{2}} | 0 \\rangle +\\frac{1}{\\sqrt{2}} |1 \\rangle$$"
   ]
  },
  {
   "cell_type": "code",
   "execution_count": 10,
   "id": "2339c0fb-b175-4b48-aef8-8583c4785160",
   "metadata": {},
   "outputs": [],
   "source": [
    "# These are the state coefficients\n",
    "a = 1j/np.sqrt(2)\n",
    "b = 1/np.sqrt(2)\n",
    "\n",
    "# Obtain spherical coordinates\n",
    "theta, phi = coeff_to_sphere(a,b)\n",
    "\n",
    "# Plot its representation in the Bloch sphere, using spherical coordinates this time!\n",
    "plot_bloch_vector([1, theta, phi], coord_type='spherical')\n"
   ]
  },
  {
   "cell_type": "markdown",
   "id": "054bf0cf-8c96-4b43-8e51-a1d76a7c260e",
   "metadata": {},
   "source": [
    "**Let's play the Amplitude Game!**<br> Now that you've seen it on the Bloch sphere, build the circuit to realise the final state  $$| \\psi \\rangle = \\frac{i}{\\sqrt{2}} | 0 \\rangle +\\frac{1}{\\sqrt{2}} | 1 \\rangle$$\n",
    "Tip: remember how the action of each gate on the Bloch sphere!"
   ]
  },
  {
   "cell_type": "code",
   "execution_count": 12,
   "id": "8eee8977-6a3f-48f0-b804-26f453abbe84",
   "metadata": {},
   "outputs": [],
   "source": [
    "# Amplitude game circuit\n",
    "num_qubits = 1\n",
    "qc = qk.QuantumCircuit(num_qubits)\n",
    "\n",
    "# ???\n",
    "\n",
    "print(qc)\n",
    "\n",
    "# [to delete] psi = Statevector(qc)\n",
    "# [to delete] print(\"|psi> = \", psi.data)\n",
    "# [to delete] plot_bloch_multivector(qc)\n"
   ]
  }
 ],
 "metadata": {
  "kernelspec": {
   "display_name": "Python 3 (ipykernel)",
   "language": "python",
   "name": "python3"
  },
  "language_info": {
   "codemirror_mode": {
    "name": "ipython",
    "version": 3
   },
   "file_extension": ".py",
   "mimetype": "text/x-python",
   "name": "python",
   "nbconvert_exporter": "python",
   "pygments_lexer": "ipython3",
   "version": "3.9.16"
  }
 },
 "nbformat": 4,
 "nbformat_minor": 5
}
