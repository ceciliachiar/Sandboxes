{
 "cells": [
  {
   "cell_type": "markdown",
   "id": "6e05393e-21f9-4c79-a110-1ebcc5b150d9",
   "metadata": {},
   "source": [
    "# **Quantum Computing — the Soft Way**\n",
    "### *QPlayLearn*"
   ]
  },
  {
   "cell_type": "markdown",
   "id": "8e85ca32-0a3b-4a12-ae17-717607861800",
   "metadata": {},
   "source": [
    "## **Installation**\n",
    "\n",
    "First of all, we start by installing packages in the current environment. Note that these packages will not be installed on your local machine"
   ]
  },
  {
   "cell_type": "code",
   "execution_count": 8,
   "id": "a3508187-7879-4f13-bec0-0d27bb9d90e2",
   "metadata": {},
   "outputs": [],
   "source": [
    "# Qiskit is the open-source library for quantum computing founded by IBM\n",
    "! pip install qiskit qiskit-aer qiskit-ibm-runtime \n",
    "! pip install matplotlib pylatexenc"
   ]
  },
  {
   "cell_type": "markdown",
   "id": "dd26861d-b10f-4de1-9747-8ae1edd0d353",
   "metadata": {},
   "source": [
    "## **Importing packages**\n",
    "\n",
    "We import all the packages we are going to need to run the code. \n",
    "<br> N.B. Remember to run this cell before every Sandbox!"
   ]
  },
  {
   "cell_type": "code",
   "execution_count": 4,
   "id": "48dd4639-e9d6-4f8c-9c39-3aeb75deb120",
   "metadata": {},
   "outputs": [],
   "source": [
    "# Qiskit is the open-source library for quantum computing founded by IBM\n",
    "import qiskit as qk\n",
    "from qiskit.quantum_info import Statevector # to get the state coefficients\n",
    "from qiskit_aer import AerSimulator # to run circuits on the quantum computer simulator\n",
    "from qiskit.visualization import plot_bloch_multivector, plot_bloch_vector, plot_histogram\n",
    "\n",
    "# Packages for graphical representations and plots\n",
    "import matplotlib as mpl\n",
    "import matplotlib.pyplot as plt\n",
    "\n",
    "# Math library\n",
    "import numpy as np"
   ]
  },
  {
   "cell_type": "markdown",
   "id": "7ff0c14c-abae-4d27-b907-467cf6349d8d",
   "metadata": {},
   "source": [
    "## **QC SANDBOX #2 - Bell states**"
   ]
  },
  {
   "cell_type": "markdown",
   "id": "43885962-3a35-4834-ba46-a9489543f038",
   "metadata": {
    "editable": true,
    "slideshow": {
     "slide_type": ""
    },
    "tags": []
   },
   "source": [
    "When working with multiple qubits, we can use the same commands to apply gates and check the final state's coefficients.\n",
    "\n"
   ]
  },
  {
   "cell_type": "markdown",
   "id": "4645e7e5-f376-49fd-aa33-f731207c18fd",
   "metadata": {
    "editable": true,
    "slideshow": {
     "slide_type": ""
    },
    "tags": []
   },
   "source": [
    "**Note on ordering**\n",
    "\n",
    "The ordering of qubits and state coefficients can be *tricky*. A generic state of two qubits is\n",
    "$$ \\begin{split} | \\psi \\rangle &= a|00 \\rangle+b |01 \\rangle+c|10 \\rangle+d |11 \\rangle \\\\ &= a|\\ 0_{q_0} \\ 0_{q_1} \\  \\rangle+b | \\ 0_{q_0} \\ 1_{q_1} \\ \\rangle +c | \\ 1_{q_0} \\ 0_{q_1} \\ \\rangle +d | \\ 1_{q_0} \\ 1_{q_1} \\ \\rangle \\\\ &=  [a,b,c,d] \\end{split} $$\n",
    "\n",
    "\n",
    "where the notation $ | \\ 0_{q_0} \\ 0_{q_1} \\ \\rangle$ indicates the computational basis state where the first qubit labelled $q_0$ is in state $| 0 \\rangle$ and the second qubit $q_1$ is in state $| 0 \\rangle$, $ | \\ 1_{q_0} \\ 0_{q_1} \\ \\rangle $ where the the first qubit $q_0$ is in state $| 1 \\rangle$ and the second qubit $q_1$ in state $|0 \\rangle$, and so on. This is the conventional ordering followed by physics textbooks, where qubits are ordered from left to right, with $q_0$ on the leftmost side. \n",
    "\n",
    "Qiskit uses a reversed (\"little-endian\") order, coming from computational science\n",
    "$$ | \\psi \\rangle_{\\text{qiskit}} = a | \\ 0_{q_1} \\ 0_{q_0} \\ \\rangle     +    c    | \\ 0_{q_1} \\ 1_{q_0} \\ \\rangle + b   | \\ 1_{q_1} \\ 0_{q_0} \\ \\rangle   +    d     | \\ 1_{q_1} \\ 1_{q_0} \\ \\rangle $$\n",
    "where we see that the first qubit is on the righmost side. So, when printing the coefficients for the same state as above in Qiskit we get\n",
    "$$ | \\psi\\rangle_{\\text{qiskit}} = [a,c, b,d] $$\n",
    "\n",
    "This difference can affect how you interpret the results of your quantum operations!\n",
    "\n",
    "For more information on how it works for more than 2 qubits, check out this official video: https://youtu.be/EiqHj3_Avps?feature=shared\n",
    "\n",
    "**End of the Note**"
   ]
  },
  {
   "cell_type": "code",
   "execution_count": 7,
   "id": "e91335d1-9402-4b98-b6b1-eab24a37bf21",
   "metadata": {
    "editable": true,
    "slideshow": {
     "slide_type": ""
    },
    "tags": []
   },
   "outputs": [],
   "source": [
    "# Create a circuit with more qubits\n",
    "num_qubits = 4\n",
    "qc = qk.QuantumCircuit(num_qubits)\n",
    "\n",
    "# Apply a layer of single qubit gates to this multiple qubit circuit\n",
    "\n",
    "# For example, to apply a X gate on the qubit with index 'n' try \n",
    "n=2\n",
    "qc.x(n)\n",
    "\n",
    "# Apply now the two-qubit gate CNOT, specifying both target and control\n",
    "# qc.cx( control_qubit_index, target_qubit_index )\n",
    "\n",
    "# Draw a representation of the circuit and compute the state\n",
    "# Check the previous sandbox if you don't remember the commands!"
   ]
  },
  {
   "cell_type": "markdown",
   "id": "b6c9287a-03dc-44b8-8449-f3d5b116af9f",
   "metadata": {},
   "source": [
    "**Entanglement**\n",
    "\n",
    "If there are more than one qubit, we can play with entanglement. We have seen how to create a maximally entangled state, or Bell state, via combination of $ \\text{H}$ and $\\text{CNOT}$ gates"
   ]
  },
  {
   "cell_type": "code",
   "execution_count": 10,
   "id": "a5d251b5-5cc9-4462-9c21-b6ae1803efca",
   "metadata": {},
   "outputs": [],
   "source": [
    "# We create the Bell state we have seen earlier in the course\n",
    "num_qubits = 2\n",
    "qc = qk.QuantumCircuit(num_qubits)\n",
    "\n",
    "qc.h(0)\n",
    "qc.cx(0,1)\n",
    "qc.draw(output=\"mpl\")\n"
   ]
  },
  {
   "cell_type": "markdown",
   "id": "a7ae7ee0-cf13-4718-9326-9c7196ebc285",
   "metadata": {},
   "source": [
    "**Measurement**\n",
    "\n",
    "We are now familiar with the idea that in the mathematical representation of the quantum states, the squared modulus of the amplitudes tells us the probability of finding the qubits in the states of the computational basis.\n",
    " \n",
    "On a quantum device, we can extract information only through measurement. A single measurement is not enough, and we need instead to run the circuit and measure many times, to estimate the probabilities of finding the qubits in the states of the computational basis. \n",
    " \n",
    "**Let’s see what this means in practice**\n",
    "\n",
    "If we look at the mathematical expression for the Bell state, we read that we have equal probability 1/2 of finding the qubits in $|00 \\rangle  $ or $|11 \\rangle  $. This means that approximately half the times we run the experiments (half the number of “shots”) we should get 00 as output, and 11 the other half. What happens if we run the experiments only 1, 10, or 1000 times? The probability estimates converge with the number of shots."
   ]
  },
  {
   "cell_type": "code",
   "execution_count": 29,
   "id": "a6b1510c-33f6-4113-bebb-ad0b55b676ba",
   "metadata": {},
   "outputs": [],
   "source": [
    "# Set AerSimulator from Qiskit as a backend to run the circuit — check the second part of the course to go to real devices\n",
    "sim_bknd = AerSimulator()\n",
    "\n",
    "#Create circuit and measure all qubits at the end of the circuit\n",
    "num_qubits = 2\n",
    "qc = qk.QuantumCircuit(num_qubits)\n",
    "qc.h(0)\n",
    "qc.cx(0,1)\n",
    "\n",
    "# The following commands measures all of the qubits\n",
    "qc.measure_all()\n",
    "\n",
    "# If you want to measure one or more specific qubits, you can use another method.\n",
    "# In your circuit, define first the same number of classical bits as measured qubits to store the measurement outcomes.\n",
    "#This is done automatically when using measure_all\n",
    "\n",
    "# For example, here we measure qubit 1 onto the classical bit 1\n",
    "#num_bits = 2\n",
    "#qc = qk.QuantumCircuit(num_qubits, num_bits)\n",
    "#qc.measure(1, 1)\n",
    "#qc.draw(output=\"mpl\")"
   ]
  },
  {
   "cell_type": "code",
   "execution_count": 33,
   "id": "febff84f-9666-4168-8b2e-786340c7aa51",
   "metadata": {},
   "outputs": [],
   "source": [
    "# Now run the circuit on the backend and get the results\n",
    "num_shots = 1\n",
    "res = sim_bknd.run(qc, shots = num_shots).result()\n",
    "counts = res.get_counts()\n",
    "# Print the results \n",
    "print(\"Measurement outcomes\\n\", counts)\n",
    "\n",
    "plot_histogram([counts],legend=['Simulator'])"
   ]
  },
  {
   "cell_type": "code",
   "execution_count": null,
   "id": "00c362f0-6a44-4867-ba61-747a2c266a8d",
   "metadata": {},
   "outputs": [],
   "source": []
  },
  {
   "cell_type": "markdown",
   "id": "0f2b55df-0413-45cf-bcb0-9262e0ca40c3",
   "metadata": {},
   "source": [
    "**Your turn!**\n",
    "\n",
    "For a system of two qubits, there are in total 4 maximally entangles, or Bell, states: \n",
    "$$\\begin{split} &|\\Phi^+ \\rangle  = \\frac{1}{\\sqrt{2}} ( | 00 \\rangle  + | 11 \\rangle ) \\\\ &| \\Phi^- \\rangle  = \\frac{1}{\\sqrt{2}} ( |00 \\rangle  - | 11 \\rangle ) \\\\ &| \\Psi^+ \\rangle  = \\frac{1}{\\sqrt{2}} ( | 01 \\rangle  + | 10 \\rangle ) \\\\ &|\\Psi^- \\rangle  = \\frac{1}{\\sqrt{2}} ( | 01 \\rangle  - | 10 \\rangle ) \\end{split} $$\n",
    "Do you recognise it? You've already realised $| \\Phi^+ \\rangle $. We challenge you to create and measure the remaining three.\n",
    "\n",
    "**Tip:** besides $CNOT$, you will need two other gates to work with, $X$ and $Z$"
   ]
  },
  {
   "cell_type": "code",
   "execution_count": 34,
   "id": "e9b57680-8036-44e4-9ee0-27959b5bd213",
   "metadata": {},
   "outputs": [],
   "source": [
    "# Create a circuit to realise the 3 remaining Bell states\n",
    "\n",
    "# Initialise the circuit\n",
    "# num_qubits = \n",
    "# qcBells = qk.QuantumCircuit(num_qubits)\n",
    "\n",
    "# Apply the correct gate combinations \n",
    "#qc.cx( )\n",
    "\n",
    "# Draw the circuit\n",
    "# qc.draw(output=\"mpl\")"
   ]
  },
  {
   "cell_type": "code",
   "execution_count": null,
   "id": "f3fa9c21-cf1a-4bfa-8fc8-3beb6f9ec05c",
   "metadata": {},
   "outputs": [],
   "source": []
  }
 ],
 "metadata": {
  "kernelspec": {
   "display_name": "Python 3 (ipykernel)",
   "language": "python",
   "name": "python3"
  },
  "language_info": {
   "codemirror_mode": {
    "name": "ipython",
    "version": 3
   },
   "file_extension": ".py",
   "mimetype": "text/x-python",
   "name": "python",
   "nbconvert_exporter": "python",
   "pygments_lexer": "ipython3",
   "version": "3.9.16"
  }
 },
 "nbformat": 4,
 "nbformat_minor": 5
}
